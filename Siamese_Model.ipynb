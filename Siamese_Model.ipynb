{
  "nbformat": 4,
  "nbformat_minor": 0,
  "metadata": {
    "colab": {
      "provenance": [],
      "gpuType": "T4",
      "authorship_tag": "ABX9TyNecp1rl8n9tHJSD56xsnFJ",
      "include_colab_link": true
    },
    "kernelspec": {
      "name": "python3",
      "display_name": "Python 3"
    },
    "language_info": {
      "name": "python"
    },
    "accelerator": "GPU"
  },
  "cells": [
    {
      "cell_type": "markdown",
      "metadata": {
        "id": "view-in-github",
        "colab_type": "text"
      },
      "source": [
        "<a href=\"https://colab.research.google.com/github/Manohar6143/Manohar/blob/main/Siamese_Model.ipynb\" target=\"_parent\"><img src=\"https://colab.research.google.com/assets/colab-badge.svg\" alt=\"Open In Colab\"/></a>"
      ]
    },
    {
      "cell_type": "code",
      "execution_count": null,
      "metadata": {
        "colab": {
          "base_uri": "https://localhost:8080/"
        },
        "id": "J-KcP14FQj6K",
        "outputId": "608d6924-c880-431b-8923-40510f32eec4"
      },
      "outputs": [
        {
          "output_type": "stream",
          "name": "stdout",
          "text": [
            "\u001b[2K   \u001b[90m━━━━━━━━━━━━━━━━━━━━━━━━━━━━━━━━━━━━━━━━\u001b[0m \u001b[32m363.4/363.4 MB\u001b[0m \u001b[31m1.4 MB/s\u001b[0m eta \u001b[36m0:00:00\u001b[0m\n",
            "\u001b[2K   \u001b[90m━━━━━━━━━━━━━━━━━━━━━━━━━━━━━━━━━━━━━━━━\u001b[0m \u001b[32m13.8/13.8 MB\u001b[0m \u001b[31m113.4 MB/s\u001b[0m eta \u001b[36m0:00:00\u001b[0m\n",
            "\u001b[2K   \u001b[90m━━━━━━━━━━━━━━━━━━━━━━━━━━━━━━━━━━━━━━━━\u001b[0m \u001b[32m24.6/24.6 MB\u001b[0m \u001b[31m89.0 MB/s\u001b[0m eta \u001b[36m0:00:00\u001b[0m\n",
            "\u001b[2K   \u001b[90m━━━━━━━━━━━━━━━━━━━━━━━━━━━━━━━━━━━━━━━━\u001b[0m \u001b[32m883.7/883.7 kB\u001b[0m \u001b[31m53.2 MB/s\u001b[0m eta \u001b[36m0:00:00\u001b[0m\n",
            "\u001b[2K   \u001b[90m━━━━━━━━━━━━━━━━━━━━━━━━━━━━━━━━━━━━━━━━\u001b[0m \u001b[32m664.8/664.8 MB\u001b[0m \u001b[31m2.1 MB/s\u001b[0m eta \u001b[36m0:00:00\u001b[0m\n",
            "\u001b[2K   \u001b[90m━━━━━━━━━━━━━━━━━━━━━━━━━━━━━━━━━━━━━━━━\u001b[0m \u001b[32m211.5/211.5 MB\u001b[0m \u001b[31m5.6 MB/s\u001b[0m eta \u001b[36m0:00:00\u001b[0m\n",
            "\u001b[2K   \u001b[90m━━━━━━━━━━━━━━━━━━━━━━━━━━━━━━━━━━━━━━━━\u001b[0m \u001b[32m56.3/56.3 MB\u001b[0m \u001b[31m13.3 MB/s\u001b[0m eta \u001b[36m0:00:00\u001b[0m\n",
            "\u001b[2K   \u001b[90m━━━━━━━━━━━━━━━━━━━━━━━━━━━━━━━━━━━━━━━━\u001b[0m \u001b[32m127.9/127.9 MB\u001b[0m \u001b[31m7.6 MB/s\u001b[0m eta \u001b[36m0:00:00\u001b[0m\n",
            "\u001b[2K   \u001b[90m━━━━━━━━━━━━━━━━━━━━━━━━━━━━━━━━━━━━━━━━\u001b[0m \u001b[32m207.5/207.5 MB\u001b[0m \u001b[31m5.4 MB/s\u001b[0m eta \u001b[36m0:00:00\u001b[0m\n",
            "\u001b[2K   \u001b[90m━━━━━━━━━━━━━━━━━━━━━━━━━━━━━━━━━━━━━━━━\u001b[0m \u001b[32m21.1/21.1 MB\u001b[0m \u001b[31m77.0 MB/s\u001b[0m eta \u001b[36m0:00:00\u001b[0m\n",
            "\u001b[?25h"
          ]
        },
        {
          "output_type": "stream",
          "name": "stderr",
          "text": [
            "100%|██████████| 9.91M/9.91M [00:00<00:00, 60.3MB/s]\n",
            "100%|██████████| 28.9k/28.9k [00:00<00:00, 1.72MB/s]\n",
            "100%|██████████| 1.65M/1.65M [00:00<00:00, 13.2MB/s]\n",
            "100%|██████████| 4.54k/4.54k [00:00<00:00, 7.39MB/s]\n"
          ]
        },
        {
          "output_type": "stream",
          "name": "stdout",
          "text": [
            "Epoch Loss: 0.2562\n"
          ]
        }
      ],
      "source": [
        "# 1. Install dependencies\n",
        "!pip install torchvision --quiet\n",
        "\n",
        "# 2. Imports\n",
        "import torch, torch.nn as nn, torch.nn.functional as F\n",
        "from torchvision import datasets, transforms\n",
        "from torch.utils.data import DataLoader, Dataset\n",
        "import random\n",
        "\n",
        "# 3. Dataset with Pairs\n",
        "class SiameseDataset(Dataset):\n",
        "    def __init__(self, mnist):\n",
        "        self.mnist = mnist\n",
        "        self.data = mnist.data\n",
        "        self.targets = mnist.targets\n",
        "\n",
        "    def __getitem__(self, index):\n",
        "        img1 = self.data[index]\n",
        "        label1 = self.targets[index]\n",
        "\n",
        "        should_match = random.randint(0, 1)\n",
        "        if should_match:\n",
        "            idx2 = (self.targets == label1).nonzero()[random.randint(0, 100)][0]\n",
        "        else:\n",
        "            idx2 = (self.targets != label1).nonzero()[random.randint(0, 100)][0]\n",
        "\n",
        "        img2 = self.data[idx2]\n",
        "        label = torch.tensor([int(label1 == self.targets[idx2])], dtype=torch.float32)\n",
        "\n",
        "        return img1.unsqueeze(0).float()/255, img2.unsqueeze(0).float()/255, label\n",
        "\n",
        "    def __len__(self):\n",
        "        return len(self.mnist)\n",
        "\n",
        "transform = transforms.ToTensor()\n",
        "mnist = datasets.MNIST(root='.', train=True, download=True, transform=transform)\n",
        "trainset = SiameseDataset(mnist)\n",
        "trainloader = DataLoader(trainset, batch_size=32, shuffle=True)\n",
        "\n",
        "# 4. Siamese Model\n",
        "class SiameseNet(nn.Module):\n",
        "    def __init__(self):\n",
        "        super().__init__()\n",
        "        self.cnn = nn.Sequential(\n",
        "            nn.Conv2d(1, 64, 3), nn.ReLU(), nn.MaxPool2d(2),\n",
        "            nn.Conv2d(64, 64, 3), nn.ReLU(), nn.MaxPool2d(2)\n",
        "        )\n",
        "        self.fc = nn.Linear(64*5*5, 128)\n",
        "\n",
        "    def forward_once(self, x):\n",
        "        x = self.cnn(x)\n",
        "        return self.fc(x.view(x.size(0), -1))\n",
        "\n",
        "    def forward(self, x1, x2):\n",
        "        emb1 = self.forward_once(x1)\n",
        "        emb2 = self.forward_once(x2)\n",
        "        return F.pairwise_distance(emb1, emb2)\n",
        "\n",
        "# 5. Training\n",
        "device = 'cuda' if torch.cuda.is_available() else 'cpu'\n",
        "model = SiameseNet().to(device)\n",
        "optimizer = torch.optim.Adam(model.parameters(), lr=1e-3)\n",
        "\n",
        "def contrastive_loss(dist, label, margin=1.0):\n",
        "    return (1 - label) * dist**2 + label * torch.clamp(margin - dist, min=0)**2\n",
        "\n",
        "for epoch in range(1):\n",
        "    for img1, img2, label in trainloader:\n",
        "        img1, img2, label = img1.to(device), img2.to(device), label.to(device)\n",
        "        dist = model(img1, img2)\n",
        "        loss = contrastive_loss(dist, label).mean()\n",
        "\n",
        "        optimizer.zero_grad()\n",
        "        loss.backward()\n",
        "        optimizer.step()\n",
        "    print(f\"Epoch Loss: {loss.item():.4f}\")\n"
      ]
    }
  ]
}